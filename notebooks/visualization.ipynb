{
  "nbformat": 4,
  "nbformat_minor": 0,
  "metadata": {
    "colab": {
      "name": "visualization.ipynb",
      "provenance": [],
      "collapsed_sections": []
    },
    "kernelspec": {
      "name": "python3",
      "display_name": "Python 3"
    }
  },
  "cells": [
    {
      "cell_type": "markdown",
      "metadata": {
        "id": "73N7MerzQVKN"
      },
      "source": [
        "# Visualization\n",
        "\n",
        "This notebook visualizes the PCam dataset [1], retrieved from [Kaggle](https://www.kaggle.com/c/histopathologic-cancer-detection/)\n",
        "\n",
        "**References:**\n",
        "\n",
        "[1] B. S. Veeling, J. Linmans, J. Winkens, T. Cohen, M. Welling. \"Rotation Equivariant CNNs for Digital Pathology\". arXiv:1806.03962"
      ]
    },
    {
      "cell_type": "code",
      "metadata": {
        "id": "gKNxClDdQUWC"
      },
      "source": [
        "import os\n",
        "\n",
        "from google.colab import drive\n",
        "import matplotlib.pyplot as plt\n",
        "import numpy as np\n",
        "import pandas as pd\n",
        "from PIL import Image\n",
        "import seaborn as sns\n",
        "import torch\n",
        "from torch.utils import data\n",
        "from torch.utils.data.dataset import Dataset\n",
        "from torchvision import datasets, transforms"
      ],
      "execution_count": 1,
      "outputs": []
    },
    {
      "cell_type": "code",
      "metadata": {
        "id": "WsewUuFYVtPA"
      },
      "source": [
        "DATASET_PATH = '/content/gdrive/My Drive/CS184A/Dataset/'"
      ],
      "execution_count": 2,
      "outputs": []
    },
    {
      "cell_type": "code",
      "metadata": {
        "id": "Cv8N9A5aRd8W",
        "colab": {
          "base_uri": "https://localhost:8080/"
        },
        "outputId": "4d364ce3-d50f-4937-98f5-23cbd89338e8"
      },
      "source": [
        "drive.mount('/content/gdrive')\n",
        "os.chdir(DATASET_PATH)"
      ],
      "execution_count": 3,
      "outputs": [
        {
          "output_type": "stream",
          "text": [
            "Drive already mounted at /content/gdrive; to attempt to forcibly remount, call drive.mount(\"/content/gdrive\", force_remount=True).\n"
          ],
          "name": "stdout"
        }
      ]
    },
    {
      "cell_type": "code",
      "metadata": {
        "id": "6ywaffuAunLE"
      },
      "source": [
        "class PCam(Dataset):\n",
        "    \"\"\"The Patch Camelyon (PCam) dataset [1].\n",
        "    \n",
        "    Retrieved from https://www.kaggle.com/c/histopathologic-cancer-detection/.\n",
        "\n",
        "    [1] B. S. Veeling, J. Linmans, J. Winkens, T. Cohen, M. Welling. \"Rotation \n",
        "        Equivariant CNNs for Digital Pathology\". arXiv:1806.03962\n",
        "    \"\"\"\n",
        "\n",
        "    def __init__(self, image_dir, csv_path, transform=None):\n",
        "        \"\"\" \n",
        "        Args:\n",
        "            image_dir: Folder with image data in file system.\n",
        "            csv_path: CSV file with image labels.\n",
        "            transform: Transforms to apply before loading.\n",
        "        \"\"\"\n",
        "        self.labels_df = pd.read_csv(csv_path)\n",
        "        self.image_dir = image_dir\n",
        "        self.transform = transform\n",
        "        print(self.labels_df.head(5))\n",
        "\n",
        "    def __len__(self):\n",
        "        \"\"\"Get the size of the PCam dataset.\"\"\"\n",
        "        return len(self.labels_df)\n",
        "\n",
        "    def __getitem__(self, idx):\n",
        "        \"\"\"Get the (image, label) at a given index in the PCam dataset.\"\"\"\n",
        "        if torch.is_tensor(idx):\n",
        "            idx = idx.to_list()\n",
        "        image_id = self.labels_df.iloc[idx, 0]\n",
        "        print('getting', image_id)\n",
        "        print(image_id + '.tif')\n",
        "        image_path = os.path.join(self.image_dir, image_id + '.tif')\n",
        "        print(image_path)\n",
        "        image = Image.open(image_path)\n",
        "        print(image)\n",
        "        label = self.labels_df.iloc[idx, 1]\n",
        "        label = np.array([label]).astype('int')\n",
        "        print(label)\n",
        "        print(self.transform)\n",
        "        if self.transform:\n",
        "            label = self.transform(label)\n",
        "        print(label)\n",
        "        return (image, label)"
      ],
      "execution_count": 4,
      "outputs": []
    },
    {
      "cell_type": "code",
      "metadata": {
        "id": "JpARGr3vUF3u",
        "colab": {
          "base_uri": "https://localhost:8080/"
        },
        "outputId": "7ba7daa3-2313-4b7c-c752-dfc96bfbf45e"
      },
      "source": [
        "image_dir = os.path.join(DATASET_PATH, 'train')\n",
        "csv_path = os.path.join(DATASET_PATH, 'train_labels.csv')\n",
        "pcam_dataset = PCam(image_dir, csv_path, transforms.Compose([transforms.ToTensor()]))\n",
        "train_loader = data.DataLoader(pcam_dataset, batch_size=4, num_workers=0)"
      ],
      "execution_count": 5,
      "outputs": [
        {
          "output_type": "stream",
          "text": [
            "                                         id  label\n",
            "0  f38a6374c348f90b587e046aac6079959adf3835      0\n",
            "1  c18f2d887b7ae4f6742ee445113fa1aef383ed77      1\n",
            "2  755db6279dae599ebb4d39a9123cce439965282d      0\n",
            "3  bc3f0c64fb968ff4a8bd33af6971ecae77c75e08      0\n",
            "4  068aba587a4950175d04c680d38943fd488d6a9d      0\n"
          ],
          "name": "stdout"
        }
      ]
    },
    {
      "cell_type": "code",
      "metadata": {
        "id": "yCWiMTjzzE6D"
      },
      "source": [
        ""
      ],
      "execution_count": null,
      "outputs": []
    }
  ]
}