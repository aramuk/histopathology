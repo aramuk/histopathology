{
  "nbformat": 4,
  "nbformat_minor": 0,
  "metadata": {
    "colab": {
      "name": "download_data.ipynb",
      "provenance": [],
      "collapsed_sections": []
    },
    "kernelspec": {
      "display_name": "Python 3",
      "name": "python3"
    }
  },
  "cells": [
    {
      "cell_type": "markdown",
      "metadata": {
        "id": "pBuc47f0txmG"
      },
      "source": [
        "# Download Dataset to Google Drive\n",
        "\n",
        "This notebook retrieves the Kaggle dataset and stores it on Google Drive.\n",
        "\n",
        "Link to dataset: [Histopathological Cancer Detection](http://kaggle.com/c/histopathologic-cancer-detection/)"
      ]
    },
    {
      "cell_type": "markdown",
      "metadata": {
        "id": "G9XotEyjuR1M"
      },
      "source": [
        "### 1. Mount Google Drive to Colab Runtime\n",
        "\n",
        "You will have to open a link to give Colab access to your drive. Once you give access, you will receive a key that you will have to paste into the box provided when you run this cell."
      ]
    },
    {
      "cell_type": "code",
      "metadata": {
        "id": "43ZA-YCN9wLs"
      },
      "source": [
        "from google.colab import drive\n",
        "drive.mount('/content/gdrive')"
      ],
      "execution_count": null,
      "outputs": []
    },
    {
      "cell_type": "markdown",
      "metadata": {
        "id": "8oUMo9xvuoqP"
      },
      "source": [
        "### 2. Upload Kaggle API Key\n",
        "\n",
        "Go to Kaggle. Click on your profile at the top right and go to account. Scroll down to where it says \"API\" and click the \"Create New API Token\" button. Run this cell to upload that JSON file to the Colab runtime."
      ]
    },
    {
      "cell_type": "code",
      "metadata": {
        "id": "iKwrMvHwatZK"
      },
      "source": [
        "from google.colab import files\n",
        "files.upload()"
      ],
      "execution_count": null,
      "outputs": []
    },
    {
      "cell_type": "code",
      "metadata": {
        "id": "HHItFnRua_os"
      },
      "source": [
        "# Update Kaggle CLI\n",
        "! pip install --upgrade --force-reinstall --no-deps kaggle\n",
        "# Create Kaggle config directory and move API key there\n",
        "! mkdir -p ~/.kaggle\n",
        "! mv kaggle.json ~/.kaggle/\n",
        "# Set key access permissions\n",
        "! chmod 600 ~/.kaggle/kaggle.json\n",
        "# Check to see if key is in the right location, with the right permissions\n",
        "# Permissions should be: -xw-------\n",
        "! ls -la ~/.kaggle "
      ],
      "execution_count": null,
      "outputs": []
    },
    {
      "cell_type": "code",
      "metadata": {
        "id": "ad84CmaifnoZ"
      },
      "source": [
        "# Go to the Google Drive folder where you would like to store the data.\n",
        "import os\n",
        "DATASET_DIR = '/content/gdrive/My Drive/CS184A/Dataset'\n",
        "os.chdir(DATASET_DIR)"
      ],
      "execution_count": null,
      "outputs": []
    },
    {
      "cell_type": "code",
      "metadata": {
        "id": "qMQTvXaCgdcN"
      },
      "source": [
        "! pwd # Verify that the directory is correct"
      ],
      "execution_count": null,
      "outputs": []
    },
    {
      "cell_type": "code",
      "metadata": {
        "id": "I_tNwc5vggzP"
      },
      "source": [
        "# Use the Kaggle CLI to download a .zip file containing the data\n",
        "! kaggle competitions download -c histopathologic-cancer-detection"
      ],
      "execution_count": null,
      "outputs": []
    },
    {
      "cell_type": "code",
      "metadata": {
        "colab": {
          "background_save": true
        },
        "id": "ViXlIROKhqAy"
      },
      "source": [
        "! unzip -q histopathologic-cancer-detection.zip -d ."
      ],
      "execution_count": null,
      "outputs": []
    },
    {
      "cell_type": "code",
      "metadata": {
        "id": "2tMCXfVoFOSF"
      },
      "source": [
        "# Should have 57,458 images in the test set\n",
        "! ls ./test | wc -l"
      ],
      "execution_count": null,
      "outputs": []
    },
    {
      "cell_type": "code",
      "metadata": {
        "id": "9euu-eb3Exa8"
      },
      "source": [
        "# Should have 220,025 images in the train set\n",
        "! ls ./train | wc -l"
      ],
      "execution_count": null,
      "outputs": []
    }
  ]
}