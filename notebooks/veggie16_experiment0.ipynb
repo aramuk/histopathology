{
 "cells": [
  {
   "cell_type": "markdown",
   "metadata": {},
   "source": [
    "# Veggie16 Experiment 0\n",
    "\n",
    "The first experiment conducted using the proposed Veggie16 model. This notebook has been adapted to run on the Kaggle kernel.\n",
    "\n",
    "The experiment is intended to prove the viability of the training pipeline\n",
    "and obtain an initial evluation of the effectiveness of the Veggie16 architecture."
   ]
  },
  {
   "cell_type": "code",
   "execution_count": 1,
   "metadata": {
    "_cell_guid": "b1076dfc-b9ad-4769-8c92-a6c4dae69d19",
    "_uuid": "8f2839f25d086af736a60e9eeb907d3b93b6e0e5",
    "scrolled": false
   },
   "outputs": [],
   "source": [
    "import os\n",
    "\n",
    "import matplotlib.pyplot as plt\n",
    "import torch\n",
    "import torch.nn as nn\n",
    "import torch.optim as optim\n",
    "import torch.utils as utils\n",
    "from torchvision import datasets, transforms\n",
    "\n",
    "import histopathology as hcd # Helper code stored as Kaggle Script"
   ]
  },
  {
   "cell_type": "markdown",
   "metadata": {},
   "source": [
    "Path to the Histopathologic Cancer Detection dataset, preloaded into this Kaggle kernel."
   ]
  },
  {
   "cell_type": "code",
   "execution_count": 2,
   "metadata": {
    "_cell_guid": "79c7e3d0-c299-4dcb-8224-4455121ee9b0",
    "_uuid": "d629ff2d2480ee46fbb7e2d37f6b5fab8052498a",
    "scrolled": false
   },
   "outputs": [],
   "source": [
    "DATASET_PATH = '/kaggle/input/histopathologic-cancer-detection'"
   ]
  },
  {
   "cell_type": "markdown",
   "metadata": {},
   "source": [
    "### Relevant Model Decisions:\n",
    "\n",
    "**Transforms:**\n",
    "\n",
    "1. Morphological closing\n",
    "2. Random resized crop to 224x224\n",
    "3. Random horizontal flip\n",
    "4. `ToTensor()`\n",
    "5. Channel-wise mean normalization \n",
    "\n",
    "**Model:** Veggie16 network adapted from VGG-16 architecture. Convolutional layers pretrained and frozen.\n",
    "\n",
    "**Criterion:** Cateorical Cross-Entropy\n",
    "\n",
    "**Optimizer:** Adam\n",
    "\n",
    "**Training Hyperparameters:** (See Below)"
   ]
  },
  {
   "cell_type": "code",
   "execution_count": 3,
   "metadata": {
    "scrolled": false
   },
   "outputs": [],
   "source": [
    "# Train/validation split distribution\n",
    "train_pct = 80\n",
    "# Training parameters\n",
    "batch_size = 50\n",
    "num_epochs = 25\n",
    "# Optimizer parameters\n",
    "learning_rate = 1e-4\n",
    "weight_decay = 0.5\n",
    "# For mean normalization. Computed over the dataset.\n",
    "rgb_means = [0.7024860505690291, 0.5462877872713974, 0.6964813026563755]\n",
    "rgb_stds = [0.23890759190102304, 0.28214205984973445, 0.21625778862043862]"
   ]
  },
  {
   "cell_type": "markdown",
   "metadata": {},
   "source": [
    "### Transform, Split, and Load the Dataset\n",
    "\n",
    "Get the PCam dataset (Histopathologic Cancer Detection) and apply the transforms."
   ]
  },
  {
   "cell_type": "code",
   "execution_count": 4,
   "metadata": {
    "scrolled": false
   },
   "outputs": [
    {
     "name": "stdout",
     "output_type": "stream",
     "text": [
      "PCam has 220025 samples\n"
     ]
    }
   ],
   "source": [
    "image_dir = os.path.join(DATASET_PATH, 'train')\n",
    "csv_path = os.path.join(DATASET_PATH, 'train_labels.csv')\n",
    "pcam_dataset = hcd.dataset.PCam(image_dir, csv_path, \n",
    "                    transforms.Compose([\n",
    "                        transforms.RandomRotation(93),\n",
    "                        transforms.CenterCrop(48),\n",
    "                        # hcd.transforms.ToClosed(),\n",
    "                        # transforms.RandomHorizontalFlip(),\n",
    "                        transforms.ToTensor(),\n",
    "                        # transforms.ColorJitter(brightness=.7, contrast=.5),\n",
    "                        hcd.transforms.ToNormalized(rgb_means, rgb_stds),\n",
    "                    ]))\n",
    "print(f'PCam has {len(pcam_dataset)} samples')"
   ]
  },
  {
   "cell_type": "markdown",
   "metadata": {},
   "source": [
    "Partition the dataset into a training and validation set."
   ]
  },
  {
   "cell_type": "code",
   "execution_count": 5,
   "metadata": {
    "scrolled": false
   },
   "outputs": [
    {
     "name": "stdout",
     "output_type": "stream",
     "text": [
      "Splitting PCam 80%/20% into train/validation sets\n"
     ]
    }
   ],
   "source": [
    "train_size = int(train_pct/100 * len(pcam_dataset))\n",
    "val_size = len(pcam_dataset) - train_size\n",
    "print(f'Splitting PCam {train_pct}%/{100-train_pct}% into train/validation sets')\n",
    "# Seed PRNG with the answer to the Ultimate Question of Life, the Universe, and Everything\n",
    "train_set, val_set = utils.data.random_split(pcam_dataset, \n",
    "                                             [train_size, val_size],\n",
    "                                             generator=torch.Generator().manual_seed(42))"
   ]
  },
  {
   "cell_type": "markdown",
   "metadata": {},
   "source": [
    "Create Pytorch Dataloaders for each dataset."
   ]
  },
  {
   "cell_type": "code",
   "execution_count": 6,
   "metadata": {
    "scrolled": false
   },
   "outputs": [],
   "source": [
    "train_loader = utils.data.DataLoader(train_set, batch_size=batch_size, num_workers=4, shuffle=True)\n",
    "val_loader = utils.data.DataLoader(val_set, batch_size=batch_size, num_workers=4)"
   ]
  },
  {
   "cell_type": "markdown",
   "metadata": {},
   "source": [
    "### Use GPU for Training"
   ]
  },
  {
   "cell_type": "code",
   "execution_count": 7,
   "metadata": {
    "scrolled": false
   },
   "outputs": [
    {
     "name": "stdout",
     "output_type": "stream",
     "text": [
      "Device: cuda:0\n"
     ]
    }
   ],
   "source": [
    "device = torch.device('cuda:0' if torch.cuda.is_available() else 'cpu')\n",
    "print('Device:', device)"
   ]
  },
  {
   "cell_type": "markdown",
   "metadata": {},
   "source": [
    "### Define the Model, Criterion, and Optimizer\n",
    "\n",
    "If using the Kaggle kernel, turn on the internet to run this cell so it can download the pretrained VGG-16 weights. "
   ]
  },
  {
   "cell_type": "code",
   "execution_count": 8,
   "metadata": {
    "scrolled": false
   },
   "outputs": [
    {
     "name": "stderr",
     "output_type": "stream",
     "text": [
      "Downloading: \"https://download.pytorch.org/models/vgg16-397923af.pth\" to /root/.cache/torch/hub/checkpoints/vgg16-397923af.pth\n"
     ]
    },
    {
     "data": {
      "application/vnd.jupyter.widget-view+json": {
       "model_id": "d8030ded2c3d4e9492d3104403effe2a",
       "version_major": 2,
       "version_minor": 0
      },
      "text/plain": [
       "HBox(children=(FloatProgress(value=0.0, max=553433881.0), HTML(value='')))"
      ]
     },
     "metadata": {},
     "output_type": "display_data"
    },
    {
     "name": "stdout",
     "output_type": "stream",
     "text": [
      "\n",
      "Veggie16(\n",
      "  (features): Sequential(\n",
      "    (0): Conv2d(3, 64, kernel_size=(3, 3), stride=(1, 1), padding=(1, 1))\n",
      "    (1): ReLU(inplace=True)\n",
      "    (2): Conv2d(64, 64, kernel_size=(3, 3), stride=(1, 1), padding=(1, 1))\n",
      "    (3): ReLU(inplace=True)\n",
      "    (4): MaxPool2d(kernel_size=2, stride=2, padding=0, dilation=1, ceil_mode=False)\n",
      "    (5): Conv2d(64, 128, kernel_size=(3, 3), stride=(1, 1), padding=(1, 1))\n",
      "    (6): ReLU(inplace=True)\n",
      "    (7): Conv2d(128, 128, kernel_size=(3, 3), stride=(1, 1), padding=(1, 1))\n",
      "    (8): ReLU(inplace=True)\n",
      "    (9): MaxPool2d(kernel_size=2, stride=2, padding=0, dilation=1, ceil_mode=False)\n",
      "    (10): Conv2d(128, 256, kernel_size=(3, 3), stride=(1, 1), padding=(1, 1))\n",
      "    (11): ReLU(inplace=True)\n",
      "    (12): Conv2d(256, 256, kernel_size=(3, 3), stride=(1, 1), padding=(1, 1))\n",
      "    (13): ReLU(inplace=True)\n",
      "    (14): Conv2d(256, 256, kernel_size=(3, 3), stride=(1, 1), padding=(1, 1))\n",
      "    (15): ReLU(inplace=True)\n",
      "    (16): MaxPool2d(kernel_size=2, stride=2, padding=0, dilation=1, ceil_mode=False)\n",
      "    (17): Conv2d(256, 512, kernel_size=(3, 3), stride=(1, 1), padding=(1, 1))\n",
      "    (18): ReLU(inplace=True)\n",
      "    (19): Conv2d(512, 512, kernel_size=(3, 3), stride=(1, 1), padding=(1, 1))\n",
      "    (20): ReLU(inplace=True)\n",
      "    (21): Conv2d(512, 512, kernel_size=(3, 3), stride=(1, 1), padding=(1, 1))\n",
      "    (22): ReLU(inplace=True)\n",
      "    (23): MaxPool2d(kernel_size=2, stride=2, padding=0, dilation=1, ceil_mode=False)\n",
      "    (24): Conv2d(512, 512, kernel_size=(3, 3), stride=(1, 1), padding=(1, 1))\n",
      "    (25): ReLU(inplace=True)\n",
      "    (26): Conv2d(512, 512, kernel_size=(3, 3), stride=(1, 1), padding=(1, 1))\n",
      "    (27): ReLU(inplace=True)\n",
      "    (28): Conv2d(512, 512, kernel_size=(3, 3), stride=(1, 1), padding=(1, 1))\n",
      "    (29): ReLU(inplace=True)\n",
      "    (30): MaxPool2d(kernel_size=2, stride=2, padding=0, dilation=1, ceil_mode=False)\n",
      "  )\n",
      "  (avgpool): AdaptiveAvgPool2d(output_size=(7, 7))\n",
      "  (classifier): Sequential(\n",
      "    (0): Linear(in_features=25088, out_features=4096, bias=True)\n",
      "    (1): LeakyReLU(negative_slope=0.01, inplace=True)\n",
      "    (2): Dropout(p=0.5, inplace=False)\n",
      "    (3): Linear(in_features=4096, out_features=4096, bias=True)\n",
      "    (4): LeakyReLU(negative_slope=0.01, inplace=True)\n",
      "    (5): Dropout(p=0.5, inplace=False)\n",
      "    (6): Linear(in_features=4096, out_features=2, bias=True)\n",
      "  )\n",
      ")\n"
     ]
    }
   ],
   "source": [
    "model = hcd.models.Veggie16(pretrained=True, freeze_weights=False).to(device)\n",
    "criterion = nn.CrossEntropyLoss()\n",
    "optimizer = optim.Adam(model.parameters(), lr=learning_rate)\n",
    "print(model)"
   ]
  },
  {
   "cell_type": "markdown",
   "metadata": {},
   "source": [
    "### Create a `Trainer` and Load Weights"
   ]
  },
  {
   "cell_type": "code",
   "execution_count": 9,
   "metadata": {
    "scrolled": false
   },
   "outputs": [],
   "source": [
    "trainer = hcd.training.Trainer(model, device)\n",
    "# trainer.load_checkpoint()"
   ]
  },
  {
   "cell_type": "markdown",
   "metadata": {},
   "source": [
    "### Train Model on Training Partition"
   ]
  },
  {
   "cell_type": "code",
   "execution_count": 10,
   "metadata": {
    "scrolled": false
   },
   "outputs": [
    {
     "name": "stdout",
     "output_type": "stream",
     "text": [
      "Epoch [1/25], Step [1000/3521], Loss: 0.340234; Accuracy: 25.000000%\n",
      "Epoch [1/25], Step [2000/3521], Loss: 0.137619; Accuracy: 25.000000%\n",
      "Epoch [1/25], Step [3000/3521], Loss: 0.313026; Accuracy: 24.960000%\n",
      "------------[Loss = 0.334562; Accuracy = 26.521363%]------------\n",
      "Epoch [2/25], Step [1000/3521], Loss: 0.247026; Accuracy: 26.600000%\n",
      "Epoch [2/25], Step [2000/3521], Loss: 0.264829; Accuracy: 27.240000%\n",
      "Epoch [2/25], Step [3000/3521], Loss: 0.284557; Accuracy: 26.200000%\n",
      "------------[Loss = 0.275760; Accuracy = 26.510923%]------------\n",
      "Epoch [3/25], Step [1000/3521], Loss: 0.215795; Accuracy: 27.800000%\n",
      "Epoch [3/25], Step [2000/3521], Loss: 0.290029; Accuracy: 24.960000%\n",
      "Epoch [3/25], Step [3000/3521], Loss: 0.289900; Accuracy: 26.120000%\n",
      "------------[Loss = 0.253810; Accuracy = 26.502124%]------------\n",
      "Epoch [4/25], Step [1000/3521], Loss: 0.204826; Accuracy: 27.520000%\n",
      "Epoch [4/25], Step [2000/3521], Loss: 0.270388; Accuracy: 28.600000%\n",
      "Epoch [4/25], Step [3000/3521], Loss: 0.315729; Accuracy: 27.800000%\n",
      "------------[Loss = 0.239884; Accuracy = 26.519750%]------------\n",
      "Epoch [5/25], Step [1000/3521], Loss: 0.213901; Accuracy: 26.920000%\n",
      "Epoch [5/25], Step [2000/3521], Loss: 0.245459; Accuracy: 27.000000%\n",
      "Epoch [5/25], Step [3000/3521], Loss: 0.274104; Accuracy: 26.680000%\n",
      "------------[Loss = 0.227263; Accuracy = 26.513025%]------------\n",
      "Epoch [6/25], Step [1000/3521], Loss: 0.382182; Accuracy: 26.280000%\n",
      "Epoch [6/25], Step [2000/3521], Loss: 0.265216; Accuracy: 26.400000%\n",
      "Epoch [6/25], Step [3000/3521], Loss: 0.196917; Accuracy: 27.520000%\n",
      "------------[Loss = 0.220279; Accuracy = 26.478546%]------------\n",
      "Epoch [7/25], Step [1000/3521], Loss: 0.238540; Accuracy: 25.960000%\n",
      "Epoch [7/25], Step [2000/3521], Loss: 0.220950; Accuracy: 25.960000%\n",
      "Epoch [7/25], Step [3000/3521], Loss: 0.206298; Accuracy: 25.960000%\n",
      "------------[Loss = 0.209872; Accuracy = 26.461948%]------------\n",
      "Epoch [8/25], Step [1000/3521], Loss: 0.137569; Accuracy: 24.920000%\n",
      "Epoch [8/25], Step [2000/3521], Loss: 0.245126; Accuracy: 25.480000%\n",
      "Epoch [8/25], Step [3000/3521], Loss: 0.165812; Accuracy: 26.680000%\n",
      "------------[Loss = 0.202707; Accuracy = 26.488009%]------------\n",
      "Epoch [9/25], Step [1000/3521], Loss: 0.194332; Accuracy: 25.240000%\n",
      "Epoch [9/25], Step [2000/3521], Loss: 0.126283; Accuracy: 26.960000%\n",
      "Epoch [9/25], Step [3000/3521], Loss: 0.227884; Accuracy: 25.720000%\n",
      "------------[Loss = 0.198903; Accuracy = 26.468907%]------------\n",
      "Epoch [10/25], Step [1000/3521], Loss: 0.241914; Accuracy: 27.520000%\n",
      "Epoch [10/25], Step [2000/3521], Loss: 0.175026; Accuracy: 26.600000%\n",
      "Epoch [10/25], Step [3000/3521], Loss: 0.248369; Accuracy: 25.560000%\n",
      "------------[Loss = 0.192291; Accuracy = 26.467129%]------------\n",
      "Epoch [11/25], Step [1000/3521], Loss: 0.093727; Accuracy: 28.240000%\n",
      "Epoch [11/25], Step [2000/3521], Loss: 0.186461; Accuracy: 25.400000%\n",
      "Epoch [11/25], Step [3000/3521], Loss: 0.160468; Accuracy: 27.880000%\n",
      "------------[Loss = 0.191451; Accuracy = 26.452127%]------------\n",
      "Epoch [12/25], Step [1000/3521], Loss: 0.182760; Accuracy: 26.600000%\n",
      "Epoch [12/25], Step [2000/3521], Loss: 0.171176; Accuracy: 27.240000%\n",
      "Epoch [12/25], Step [3000/3521], Loss: 0.098239; Accuracy: 26.200000%\n",
      "------------[Loss = 0.184064; Accuracy = 26.455632%]------------\n",
      "Epoch [13/25], Step [1000/3521], Loss: 0.114266; Accuracy: 25.800000%\n",
      "Epoch [13/25], Step [2000/3521], Loss: 0.392117; Accuracy: 25.800000%\n",
      "Epoch [13/25], Step [3000/3521], Loss: 0.185043; Accuracy: 28.600000%\n",
      "------------[Loss = 0.181708; Accuracy = 26.468140%]------------\n",
      "Epoch [14/25], Step [1000/3521], Loss: 0.170985; Accuracy: 25.240000%\n",
      "Epoch [14/25], Step [2000/3521], Loss: 0.188110; Accuracy: 28.240000%\n",
      "Epoch [14/25], Step [3000/3521], Loss: 0.134592; Accuracy: 30.280000%\n",
      "------------[Loss = 0.178849; Accuracy = 26.472201%]------------\n",
      "Epoch [15/25], Step [1000/3521], Loss: 0.193278; Accuracy: 25.480000%\n",
      "Epoch [15/25], Step [2000/3521], Loss: 0.109561; Accuracy: 29.800000%\n",
      "Epoch [15/25], Step [3000/3521], Loss: 0.171810; Accuracy: 25.480000%\n",
      "------------[Loss = 0.171470; Accuracy = 26.436728%]------------\n",
      "Epoch [16/25], Step [1000/3521], Loss: 0.201851; Accuracy: 25.000000%\n",
      "Epoch [16/25], Step [2000/3521], Loss: 0.232802; Accuracy: 25.000000%\n",
      "Epoch [16/25], Step [3000/3521], Loss: 0.157820; Accuracy: 25.720000%\n",
      "------------[Loss = 0.168627; Accuracy = 26.449054%]------------\n",
      "Epoch [17/25], Step [1000/3521], Loss: 0.157665; Accuracy: 26.400000%\n",
      "Epoch [17/25], Step [2000/3521], Loss: 0.213028; Accuracy: 25.480000%\n",
      "Epoch [17/25], Step [3000/3521], Loss: 0.139502; Accuracy: 26.920000%\n",
      "------------[Loss = 0.166329; Accuracy = 26.449259%]------------\n",
      "Epoch [18/25], Step [1000/3521], Loss: 0.096238; Accuracy: 24.960000%\n",
      "Epoch [18/25], Step [2000/3521], Loss: 0.109406; Accuracy: 26.960000%\n",
      "Epoch [18/25], Step [3000/3521], Loss: 0.277129; Accuracy: 24.680000%\n",
      "------------[Loss = 0.164110; Accuracy = 26.458040%]------------\n",
      "Epoch [19/25], Step [1000/3521], Loss: 0.129234; Accuracy: 26.960000%\n",
      "Epoch [19/25], Step [2000/3521], Loss: 0.213883; Accuracy: 27.880000%\n",
      "Epoch [19/25], Step [3000/3521], Loss: 0.148863; Accuracy: 32.280000%\n",
      "------------[Loss = 0.177316; Accuracy = 26.485283%]------------\n",
      "Epoch [20/25], Step [1000/3521], Loss: 0.173885; Accuracy: 25.600000%\n",
      "Epoch [20/25], Step [2000/3521], Loss: 0.234379; Accuracy: 27.160000%\n",
      "Epoch [20/25], Step [3000/3521], Loss: 0.131194; Accuracy: 25.480000%\n",
      "------------[Loss = 0.197560; Accuracy = 26.446135%]------------\n",
      "Epoch [21/25], Step [1000/3521], Loss: 0.162228; Accuracy: 27.880000%\n",
      "Epoch [21/25], Step [2000/3521], Loss: 0.207009; Accuracy: 25.000000%\n",
      "Epoch [21/25], Step [3000/3521], Loss: 0.168546; Accuracy: 25.000000%\n",
      "------------[Loss = 0.166272; Accuracy = 26.462113%]------------\n",
      "Epoch [22/25], Step [1000/3521], Loss: 0.317212; Accuracy: 25.480000%\n",
      "Epoch [22/25], Step [2000/3521], Loss: 0.179187; Accuracy: 25.960000%\n",
      "Epoch [22/25], Step [3000/3521], Loss: 0.152454; Accuracy: 25.600000%\n",
      "------------[Loss = 0.163874; Accuracy = 26.451576%]------------\n",
      "Epoch [23/25], Step [1000/3521], Loss: 0.287650; Accuracy: 27.240000%\n",
      "Epoch [23/25], Step [2000/3521], Loss: 0.154754; Accuracy: 27.520000%\n",
      "Epoch [23/25], Step [3000/3521], Loss: 0.218462; Accuracy: 25.160000%\n",
      "------------[Loss = 0.168832; Accuracy = 26.494490%]------------\n",
      "Epoch [24/25], Step [1000/3521], Loss: 0.068117; Accuracy: 27.240000%\n",
      "Epoch [24/25], Step [2000/3521], Loss: 0.210445; Accuracy: 25.120000%\n",
      "Epoch [24/25], Step [3000/3521], Loss: 0.176680; Accuracy: 25.000000%\n",
      "------------[Loss = 0.152251; Accuracy = 26.458836%]------------\n",
      "Epoch [25/25], Step [1000/3521], Loss: 0.132071; Accuracy: 27.800000%\n",
      "Epoch [25/25], Step [2000/3521], Loss: 0.101895; Accuracy: 29.800000%\n",
      "Epoch [25/25], Step [3000/3521], Loss: 0.072418; Accuracy: 26.200000%\n",
      "------------[Loss = 0.152877; Accuracy = 26.460153%]------------\n",
      "Training complete in 115m 9s\n",
      "Total Loss over 25 epochs: ([0.3345616420297692, 0.275760066457193, 0.25381005420599345, 0.23988399894480109, 0.2272634675371328, 0.22027860901502835, 0.20987221233396508, 0.20270740035080212, 0.198903295792612, 0.1922907920570678, 0.19145108788128493, 0.18406366261906737, 0.18170785373756543, 0.17884934824134613, 0.1714695757194122, 0.16862651201912499, 0.16632906453791374, 0.16410993171913468, 0.1773160250224774, 0.19756002880704815, 0.16627153258340077, 0.16387368293330426, 0.16883172343456712, 0.15225110233287145, 0.15287695092420786], [26.521363249077027, 26.510923033229318, 26.502124396478397, 26.519750071002637, 26.513024708889787, 26.478545867651427, 26.461948310139327, 26.488009088327367, 26.468906560636388, 26.467128656631743, 26.45212723658071, 26.45563192274936, 26.46813973303055, 26.472201079238992, 26.436728202215527, 26.449054245953068, 26.44925873331458, 26.45804032945203, 26.48528259017341, 26.44613462084659, 26.462113036069507, 26.45157625674543, 26.494490201647448, 26.458835558080267, 26.460153365521382])\n"
     ]
    }
   ],
   "source": [
    "losses, accuracies = trainer.train(train_loader, criterion, optimizer, num_epochs=num_epochs)"
   ]
  },
  {
   "cell_type": "markdown",
   "metadata": {},
   "source": [
    "### Plot Loss and Accuracy over the epochs."
   ]
  },
  {
   "cell_type": "code",
   "execution_count": 26,
   "metadata": {
    "scrolled": false
   },
   "outputs": [
    {
     "data": {
      "text/plain": [
       "<Figure size 432x288 with 0 Axes>"
      ]
     },
     "metadata": {},
     "output_type": "display_data"
    },
    {
     "data": {
      "image/png": "[encoded data removed]",
      "text/plain": [
       "<Figure size 720x360 with 2 Axes>"
      ]
     },
     "metadata": {
      "needs_background": "light"
     },
     "output_type": "display_data"
    }
   ],
   "source": [
    "plt.subplots_adjust(wspace=1)\n",
    "fig, ax = plt.subplots(1,2, figsize=(10,5))\n",
    "ax[0].set_title('Training Loss')\n",
    "ax[0].plot(list(range(1,26)), losses, 'r-')\n",
    "ax[0].set_ylabel('Categorical Cross Entropy Loss')\n",
    "ax[0].set_ylim(0, max(losses))\n",
    "ax[0].set_xlabel('Epochs')\n",
    "ax[1].set_title('Training Accuracy')\n",
    "ax[1].plot(list(range(1,26)), accuracies, 'b-')\n",
    "ax[1].set_ylabel('Accuracy (%)')\n",
    "ax[1].set_ylim(min(accuracies), max(accuracies))\n",
    "ax[1].set_xlabel('Epochs')\n",
    "plt.savefig('/kaggle/working/rates.png')"
   ]
  },
  {
   "cell_type": "markdown",
   "metadata": {},
   "source": [
    "### Evaluate Model on Validation Partition"
   ]
  },
  {
   "cell_type": "code",
   "execution_count": 27,
   "metadata": {
    "scrolled": false
   },
   "outputs": [
    {
     "name": "stdout",
     "output_type": "stream",
     "text": [
      "Evaluating Veggie16 on validation set:\n",
      "------------------------------\n",
      "F1-Score: 0.9133128662631416\n",
      "Accuracy: 0.9294171116918531\n",
      "Loss: 182.6356303524226\n"
     ]
    }
   ],
   "source": [
    "score, accuracy, loss = hcd.evaluation.evaluate(model, val_loader, device, criterion)\n",
    "print(f'Evaluating {model.__class__.__name__} on validation set:')\n",
    "print('-'*30)\n",
    "print('F1-Score:', score)\n",
    "print('Accuracy:', accuracy)\n",
    "print('Loss:', loss)"
   ]
  },
  {
   "cell_type": "markdown",
   "metadata": {},
   "source": [
    "### Save Trained Model"
   ]
  },
  {
   "cell_type": "code",
   "execution_count": 28,
   "metadata": {
    "scrolled": false
   },
   "outputs": [],
   "source": [
    "trainer.save_final_model()"
   ]
  }
 ],
 "metadata": {
  "kernelspec": {
   "display_name": "Python 3",
   "language": "python",
   "name": "python3"
  },
  "language_info": {
   "codemirror_mode": {
    "name": "ipython",
    "version": 3
   },
   "file_extension": ".py",
   "mimetype": "text/x-python",
   "name": "python",
   "nbconvert_exporter": "python",
   "pygments_lexer": "ipython3",
   "version": "3.7.7"
  },
  "latex_envs": {
   "LaTeX_envs_menu_present": true,
   "autoclose": false,
   "autocomplete": true,
   "bibliofile": "biblio.bib",
   "cite_by": "apalike",
   "current_citInitial": 1,
   "eqLabelWithNumbers": true,
   "eqNumInitial": 1,
   "hotkeys": {
    "equation": "Ctrl-E",
    "itemize": "Ctrl-I"
   },
   "labels_anchors": false,
   "latex_user_defs": false,
   "report_style_numbering": false,
   "user_envs_cfg": false
  }
 },
 "nbformat": 4,
 "nbformat_minor": 4
}
