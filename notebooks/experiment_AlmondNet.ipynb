{
 "cells": [
  {
   "cell_type": "markdown",
   "metadata": {
    "id": "ASLrIp-LNeoD"
   },
   "source": [
    "# Trainers\n",
    "\n",
    "Designing a training loop for learning a complex dataset.\n",
    "\n",
    "Almondnet currently run for 30 epochs"
   ]
  },
  {
   "cell_type": "code",
   "execution_count": null,
   "metadata": {
    "id": "ywnbqxbkP4S8"
   },
   "outputs": [],
   "source": [
    "import os\n",
    "\n",
    "import matplotlib.pyplot as plt\n",
    "import torch\n",
    "import torch.nn as nn\n",
    "import torch.optim as optim\n",
    "import torch.utils as utils\n",
    "from torchvision import datasets, transforms\n",
    "\n",
    "import lib.histopathology as hcd\n",
    "from lib.dataset import PCam\n",
    "from lib.evaluate import evaluate\n",
    "from lib.models import AlmondNet\n",
    "from lib.train import train\n",
    "from lib.transforms import ToNormalized, ToClosed\n"
   ]
  },
  {
   "cell_type": "code",
   "execution_count": null,
   "metadata": {},
   "outputs": [],
   "source": [
    "os.chdir('C:/Users/Amod/PycharmProjects/CS184a/histopathology')\n",
    "print(os.path.isdir('./models'))\n",
    "DATASET_PATH = 'C:/Users/Amod/PycharmProjects/CS184a/input'"
   ]
  },
  {
   "cell_type": "code",
   "execution_count": null,
   "metadata": {
    "id": "rdCWTC3KwSoj"
   },
   "outputs": [],
   "source": [
    "num_epochs = 5\n",
    "num_classes = 2\n",
    "batch_size = 50\n",
    "learning_rate = 0.001\n",
    "rgb_means = [0.7024860505690291, 0.5462877872713974, 0.6964813026563755]\n",
    "rgb_stds = [0.23890759190102304, 0.28214205984973445, 0.21625778862043862]"
   ]
  },
  {
   "cell_type": "code",
   "execution_count": null,
   "metadata": {
    "colab": {
     "base_uri": "https://localhost:8080/"
    },
    "id": "T9J7U_VaTlxZ",
    "outputId": "a595ca1e-270a-4c4c-9777-c91df54ba933"
   },
   "outputs": [],
   "source": [
    "image_dir = os.path.join(DATASET_PATH, 'train')\n",
    "csv_path = os.path.join(DATASET_PATH, 'train_labels.csv')\n",
    "pcam_dataset = PCam(image_dir, csv_path, \n",
    "                    transforms.Compose([\n",
    "                        ToClosed(),\n",
    "                        transforms.RandomVerticalFlip(),\n",
    "                        transforms.RandomHorizontalFlip(),\n",
    "                        transforms.RandomRotation(93),\n",
    "                        transforms.CenterCrop(48),\n",
    "                        transforms.ToTensor(),\n",
    "                        hcd.transforms.ToNormalized(rgb_means, rgb_stds)\n",
    "                    ]))\n",
    "print(len(pcam_dataset))"
   ]
  },
  {
   "cell_type": "code",
   "execution_count": null,
   "metadata": {
    "id": "Na4D7EgDWp7h"
   },
   "outputs": [],
   "source": [
    "train_set, val_set = utils.data.random_split(pcam_dataset, [154000, 66025])"
   ]
  },
  {
   "cell_type": "code",
   "execution_count": null,
   "metadata": {
    "id": "wH4_h9wjUEQd"
   },
   "outputs": [],
   "source": [
    "train_loader = utils.data.DataLoader(train_set, batch_size=batch_size, num_workers=0)\n",
    "val_loader = utils.data.DataLoader(val_set, batch_size=batch_size, num_workers=0)"
   ]
  },
  {
   "cell_type": "code",
   "execution_count": null,
   "metadata": {
    "colab": {
     "base_uri": "https://localhost:8080/"
    },
    "id": "B0U6Utf9wSoj",
    "outputId": "cb1a384a-ee51-4d97-a4e4-c3af696ab26f"
   },
   "outputs": [],
   "source": [
    "device = torch.device('cuda:0' if torch.cuda.is_available() else 'cpu')\n",
    "print('Device:', device)"
   ]
  },
  {
   "cell_type": "code",
   "execution_count": null,
   "metadata": {
    "colab": {
     "base_uri": "https://localhost:8080/",
     "height": 868,
     "referenced_widgets": [
      "c8106143179542ec81b62b858f77abcf",
      "687bd00cd736478c9209ad7c097909cb",
      "7107a34bd5c84c7ea208bdec287589b1",
      "ad7b1109cbb140b7ac701af8c5c4f9c2",
      "6b4640b3ba8b46a1b43f40d9d0acf3b0",
      "7742103fd6024d96a4c6780b8d4489a7",
      "9edcb92c77cc4e10841089c8b77b3455",
      "6ae686a5b21c4e2bb4c47d3673096883"
     ]
    },
    "id": "glaviOKvwSok",
    "outputId": "245a32ca-43d9-4325-d5b2-35414e9dd5f4"
   },
   "outputs": [],
   "source": [
    "model = AlmondNet(2).to(device)\n",
    "criterion = nn.CrossEntropyLoss()\n",
    "optimizer = optim.Adam(model.parameters(), lr=learning_rate)\n",
    "print(model)\n",
    "print(str(model))"
   ]
  },
  {
   "cell_type": "code",
   "execution_count": null,
   "metadata": {},
   "outputs": [],
   "source": [
    "# uncomment to load from checkpoint\n",
    "\n",
    "trainer = hcd.training.Trainer(model, train_loader, model_dir='C:/Users/Amod/PycharmProjects/CS184a/histopathology/models')\n",
    "trainer.load_checkpoint()"
   ]
  },
  {
   "cell_type": "code",
   "execution_count": null,
   "metadata": {
    "id": "ejc6lTXlwSok",
    "scrolled": true
   },
   "outputs": [],
   "source": [
    "total_loss = train(model, train_loader, device, criterion, optimizer, num_epochs=num_epochs)"
   ]
  },
  {
   "cell_type": "code",
   "execution_count": null,
   "metadata": {
    "id": "xb0w7uaOwSok",
    "scrolled": true
   },
   "outputs": [],
   "source": [
    "# plt.semilogy()\n",
    "# plt.plot(tuple(range(num_epochs)), losses, 'b-')\n",
    "# plt.title('Model Loss')\n",
    "# plt.xlabel('Epoch')\n",
    "# plt.ylable('Cross Entropy Loss')\n",
    "# plt.show()\n",
    "print(total_loss)"
   ]
  },
  {
   "cell_type": "code",
   "execution_count": null,
   "metadata": {
    "scrolled": true
   },
   "outputs": [],
   "source": [
    "score, accuracy, loss = hcd.evaluation.evaluate(model, val_loader, device, criterion)\n",
    "print('Evaluating AlmondNet on Validation set:')\n",
    "print('F1-Score:', score)\n",
    "print('Accuracy:', accuracy)\n",
    "print('Loss:', loss)"
   ]
  },
  {
   "cell_type": "markdown",
   "metadata": {},
   "source": [
    "# Testing small batches of 100"
   ]
  },
  {
   "cell_type": "code",
   "execution_count": null,
   "metadata": {},
   "outputs": [],
   "source": [
    "since = time.time()\n",
    "num_steps = len(train_loader)\n",
    "total_loss = 0\n",
    "ESL = nd.array[3,100]\n",
    "for epoch in range(1, num_epochs+1):\n",
    "    for i, (images, labels) in enumerate(train_loader, start=1):\n",
    "        images = images.to(self.device)\n",
    "        labels = labels.to(self.device)\n",
    "        # Generate prediction and evaluate\n",
    "        outputs = self.model(images)\n",
    "        loss = criterion(outputs, labels.long().flatten())\n",
    "        # Backpropagate loss and update weights\n",
    "        optimizer.zero_grad()\n",
    "        loss.backward()\n",
    "        optimizer.step()\n",
    "        # Compute running average of epoch loss\n",
    "        total_loss += float(loss)\n",
    "        # Print progress each step\n",
    "        print(f'Epoch [{epoch}/{num_epochs}], Step [{i}/{num_steps}], Loss: {loss.item():.6f}')\n",
    "        # Print progress every 1000 batches\n",
    "        \n",
    "        if i % 100 == 0:\n",
    "            break    \n"
   ]
  },
  {
   "cell_type": "markdown",
   "metadata": {},
   "source": [
    "# Evaluate a saved model"
   ]
  },
  {
   "cell_type": "code",
   "execution_count": null,
   "metadata": {
    "scrolled": true
   },
   "outputs": [],
   "source": [
    "print(model.__class__.__name__ + '_ckpt.pth')\n",
    "trainer = hcd.training.Trainer(model, train_loader, model_dir='./models/')\n",
    "trainer.load_checkpoint()"
   ]
  },
  {
   "cell_type": "code",
   "execution_count": null,
   "metadata": {
    "id": "u4pP8xuowSok"
   },
   "outputs": [],
   "source": [
    "score, accuracy, loss = hcd.evaluation.evaluate(model, val_loader, device, criterion)\n",
    "print('Evaluating AlmondNet on Validation set:')\n",
    "print('F1-Score:', score)\n",
    "print('Accuracy:', accuracy)\n",
    "print('Loss:', loss)"
   ]
  },
  {
   "cell_type": "code",
   "execution_count": null,
   "metadata": {
    "scrolled": true
   },
   "outputs": [],
   "source": [
    "torch.save(model.state_dict(), './models/AlmondNet_exp1.pth.tar')"
   ]
  }
 ],
 "metadata": {
  "accelerator": "GPU",
  "colab": {
   "collapsed_sections": [],
   "name": "experiment_v16_0.ipynb",
   "provenance": []
  },
  "kernelspec": {
   "display_name": "Python 3",
   "language": "python",
   "name": "python3"
  },
  "language_info": {
   "codemirror_mode": {
    "name": "ipython",
    "version": 3
   },
   "file_extension": ".py",
   "mimetype": "text/x-python",
   "name": "python",
   "nbconvert_exporter": "python",
   "pygments_lexer": "ipython3",
   "version": "3.7.1"
  },
  "widgets": {
   "application/vnd.jupyter.widget-state+json": {
    "687bd00cd736478c9209ad7c097909cb": {
     "model_module": "@jupyter-widgets/base",
     "model_name": "LayoutModel",
     "state": {
      "_model_module": "@jupyter-widgets/base",
      "_model_module_version": "1.2.0",
      "_model_name": "LayoutModel",
      "_view_count": null,
      "_view_module": "@jupyter-widgets/base",
      "_view_module_version": "1.2.0",
      "_view_name": "LayoutView",
      "align_content": null,
      "align_items": null,
      "align_self": null,
      "border": null,
      "bottom": null,
      "display": null,
      "flex": null,
      "flex_flow": null,
      "grid_area": null,
      "grid_auto_columns": null,
      "grid_auto_flow": null,
      "grid_auto_rows": null,
      "grid_column": null,
      "grid_gap": null,
      "grid_row": null,
      "grid_template_areas": null,
      "grid_template_columns": null,
      "grid_template_rows": null,
      "height": null,
      "justify_content": null,
      "justify_items": null,
      "left": null,
      "margin": null,
      "max_height": null,
      "max_width": null,
      "min_height": null,
      "min_width": null,
      "object_fit": null,
      "object_position": null,
      "order": null,
      "overflow": null,
      "overflow_x": null,
      "overflow_y": null,
      "padding": null,
      "right": null,
      "top": null,
      "visibility": null,
      "width": null
     }
    },
    "6ae686a5b21c4e2bb4c47d3673096883": {
     "model_module": "@jupyter-widgets/base",
     "model_name": "LayoutModel",
     "state": {
      "_model_module": "@jupyter-widgets/base",
      "_model_module_version": "1.2.0",
      "_model_name": "LayoutModel",
      "_view_count": null,
      "_view_module": "@jupyter-widgets/base",
      "_view_module_version": "1.2.0",
      "_view_name": "LayoutView",
      "align_content": null,
      "align_items": null,
      "align_self": null,
      "border": null,
      "bottom": null,
      "display": null,
      "flex": null,
      "flex_flow": null,
      "grid_area": null,
      "grid_auto_columns": null,
      "grid_auto_flow": null,
      "grid_auto_rows": null,
      "grid_column": null,
      "grid_gap": null,
      "grid_row": null,
      "grid_template_areas": null,
      "grid_template_columns": null,
      "grid_template_rows": null,
      "height": null,
      "justify_content": null,
      "justify_items": null,
      "left": null,
      "margin": null,
      "max_height": null,
      "max_width": null,
      "min_height": null,
      "min_width": null,
      "object_fit": null,
      "object_position": null,
      "order": null,
      "overflow": null,
      "overflow_x": null,
      "overflow_y": null,
      "padding": null,
      "right": null,
      "top": null,
      "visibility": null,
      "width": null
     }
    },
    "6b4640b3ba8b46a1b43f40d9d0acf3b0": {
     "model_module": "@jupyter-widgets/controls",
     "model_name": "ProgressStyleModel",
     "state": {
      "_model_module": "@jupyter-widgets/controls",
      "_model_module_version": "1.5.0",
      "_model_name": "ProgressStyleModel",
      "_view_count": null,
      "_view_module": "@jupyter-widgets/base",
      "_view_module_version": "1.2.0",
      "_view_name": "StyleView",
      "bar_color": null,
      "description_width": "initial"
     }
    },
    "7107a34bd5c84c7ea208bdec287589b1": {
     "model_module": "@jupyter-widgets/controls",
     "model_name": "FloatProgressModel",
     "state": {
      "_dom_classes": [],
      "_model_module": "@jupyter-widgets/controls",
      "_model_module_version": "1.5.0",
      "_model_name": "FloatProgressModel",
      "_view_count": null,
      "_view_module": "@jupyter-widgets/controls",
      "_view_module_version": "1.5.0",
      "_view_name": "ProgressView",
      "bar_style": "success",
      "description": "100%",
      "description_tooltip": null,
      "layout": "IPY_MODEL_7742103fd6024d96a4c6780b8d4489a7",
      "max": 553433881,
      "min": 0,
      "orientation": "horizontal",
      "style": "IPY_MODEL_6b4640b3ba8b46a1b43f40d9d0acf3b0",
      "value": 553433881
     }
    },
    "7742103fd6024d96a4c6780b8d4489a7": {
     "model_module": "@jupyter-widgets/base",
     "model_name": "LayoutModel",
     "state": {
      "_model_module": "@jupyter-widgets/base",
      "_model_module_version": "1.2.0",
      "_model_name": "LayoutModel",
      "_view_count": null,
      "_view_module": "@jupyter-widgets/base",
      "_view_module_version": "1.2.0",
      "_view_name": "LayoutView",
      "align_content": null,
      "align_items": null,
      "align_self": null,
      "border": null,
      "bottom": null,
      "display": null,
      "flex": null,
      "flex_flow": null,
      "grid_area": null,
      "grid_auto_columns": null,
      "grid_auto_flow": null,
      "grid_auto_rows": null,
      "grid_column": null,
      "grid_gap": null,
      "grid_row": null,
      "grid_template_areas": null,
      "grid_template_columns": null,
      "grid_template_rows": null,
      "height": null,
      "justify_content": null,
      "justify_items": null,
      "left": null,
      "margin": null,
      "max_height": null,
      "max_width": null,
      "min_height": null,
      "min_width": null,
      "object_fit": null,
      "object_position": null,
      "order": null,
      "overflow": null,
      "overflow_x": null,
      "overflow_y": null,
      "padding": null,
      "right": null,
      "top": null,
      "visibility": null,
      "width": null
     }
    },
    "9edcb92c77cc4e10841089c8b77b3455": {
     "model_module": "@jupyter-widgets/controls",
     "model_name": "DescriptionStyleModel",
     "state": {
      "_model_module": "@jupyter-widgets/controls",
      "_model_module_version": "1.5.0",
      "_model_name": "DescriptionStyleModel",
      "_view_count": null,
      "_view_module": "@jupyter-widgets/base",
      "_view_module_version": "1.2.0",
      "_view_name": "StyleView",
      "description_width": ""
     }
    },
    "ad7b1109cbb140b7ac701af8c5c4f9c2": {
     "model_module": "@jupyter-widgets/controls",
     "model_name": "HTMLModel",
     "state": {
      "_dom_classes": [],
      "_model_module": "@jupyter-widgets/controls",
      "_model_module_version": "1.5.0",
      "_model_name": "HTMLModel",
      "_view_count": null,
      "_view_module": "@jupyter-widgets/controls",
      "_view_module_version": "1.5.0",
      "_view_name": "HTMLView",
      "description": "",
      "description_tooltip": null,
      "layout": "IPY_MODEL_6ae686a5b21c4e2bb4c47d3673096883",
      "placeholder": "​",
      "style": "IPY_MODEL_9edcb92c77cc4e10841089c8b77b3455",
      "value": " 528M/528M [01:05&lt;00:00, 8.49MB/s]"
     }
    },
    "c8106143179542ec81b62b858f77abcf": {
     "model_module": "@jupyter-widgets/controls",
     "model_name": "HBoxModel",
     "state": {
      "_dom_classes": [],
      "_model_module": "@jupyter-widgets/controls",
      "_model_module_version": "1.5.0",
      "_model_name": "HBoxModel",
      "_view_count": null,
      "_view_module": "@jupyter-widgets/controls",
      "_view_module_version": "1.5.0",
      "_view_name": "HBoxView",
      "box_style": "",
      "children": [
       "IPY_MODEL_7107a34bd5c84c7ea208bdec287589b1",
       "IPY_MODEL_ad7b1109cbb140b7ac701af8c5c4f9c2"
      ],
      "layout": "IPY_MODEL_687bd00cd736478c9209ad7c097909cb"
     }
    }
   }
  }
 },
 "nbformat": 4,
 "nbformat_minor": 1
}
