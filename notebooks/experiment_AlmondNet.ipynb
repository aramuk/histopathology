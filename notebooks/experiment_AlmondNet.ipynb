{
 "cells": [
  {
   "cell_type": "markdown",
   "metadata": {
    "id": "ASLrIp-LNeoD"
   },
   "source": [
    "# Trainers\n",
    "\n",
    "Designing a training loop for learning a complex dataset.\n",
    "\n",
    "Almondnet currently run for 30 epochs"
   ]
  },
  {
   "cell_type": "code",
   "execution_count": 1,
   "metadata": {
    "id": "ywnbqxbkP4S8"
   },
   "outputs": [],
   "source": [
    "import os\n",
    "\n",
    "import matplotlib.pyplot as plt\n",
    "import torch\n",
    "import torch.nn as nn\n",
    "import torch.optim as optim\n",
    "import torch.utils as utils\n",
    "from torchvision import datasets, transforms\n",
    "import time\n",
    "\n",
    "import lib.histopathology as hcd\n",
    "from lib.histopathology import AlmondNet"
   ]
  },
  {
   "cell_type": "code",
   "execution_count": 2,
   "metadata": {},
   "outputs": [
    {
     "name": "stdout",
     "output_type": "stream",
     "text": [
      "True\n"
     ]
    }
   ],
   "source": [
    "os.chdir('C:/Users/Amod/PycharmProjects/CS184a/histopathology')\n",
    "print(os.path.isdir('./models'))\n",
    "DATASET_PATH = 'C:/Users/Amod/PycharmProjects/CS184a/input'"
   ]
  },
  {
   "cell_type": "code",
   "execution_count": 3,
   "metadata": {
    "id": "rdCWTC3KwSoj"
   },
   "outputs": [],
   "source": [
    "# Train/validation split distribution\n",
    "train_pct = 80\n",
    "# Training parameters\n",
    "batch_size = 50\n",
    "num_epochs = 10\n",
    "# Optimizer parameters\n",
    "learning_rate = 1e-4\n",
    "weight_decay = 0.5\n",
    "# For mean normalization. Computed over the dataset.\n",
    "rgb_means = [0.7024860505690291, 0.5462877872713974, 0.6964813026563755]\n",
    "rgb_stds = [0.23890759190102304, 0.28214205984973445, 0.21625778862043862]"
   ]
  },
  {
   "cell_type": "code",
   "execution_count": 4,
   "metadata": {
    "colab": {
     "base_uri": "https://localhost:8080/"
    },
    "id": "T9J7U_VaTlxZ",
    "outputId": "a595ca1e-270a-4c4c-9777-c91df54ba933"
   },
   "outputs": [
    {
     "name": "stdout",
     "output_type": "stream",
     "text": [
      "220025\n"
     ]
    }
   ],
   "source": [
    "image_dir = os.path.join(DATASET_PATH, 'train')\n",
    "csv_path = os.path.join(DATASET_PATH, 'train_labels.csv')\n",
    "pcam_dataset = hcd.PCam(image_dir, csv_path, \n",
    "                    transforms.Compose([\n",
    "                        hcd.transforms.ToClosed(),\n",
    "                        transforms.RandomVerticalFlip(),\n",
    "                        transforms.RandomHorizontalFlip(),\n",
    "                        transforms.RandomRotation(90),\n",
    "                        transforms.CenterCrop(64),\n",
    "                        transforms.ToTensor(),\n",
    "                        hcd.transforms.ToNormalized(rgb_means, rgb_stds)\n",
    "                    ]))\n",
    "print(len(pcam_dataset))"
   ]
  },
  {
   "cell_type": "code",
   "execution_count": 5,
   "metadata": {
    "id": "Na4D7EgDWp7h"
   },
   "outputs": [
    {
     "name": "stdout",
     "output_type": "stream",
     "text": [
      "Splitting PCam 80%/20% into train/validation sets\n"
     ]
    }
   ],
   "source": [
    "train_size = int(train_pct/100 * len(pcam_dataset))\n",
    "val_size = len(pcam_dataset) - train_size\n",
    "print(f'Splitting PCam {train_pct}%/{100-train_pct}% into train/validation sets')\n",
    "# Seed PRNG with the answer to the Ultimate Question of Life, the Universe, and Everything\n",
    "train_set, val_set = utils.data.random_split(pcam_dataset, \n",
    "                                             [train_size, val_size],\n",
    "                                             generator=torch.Generator().manual_seed(42))"
   ]
  },
  {
   "cell_type": "code",
   "execution_count": 6,
   "metadata": {
    "id": "wH4_h9wjUEQd"
   },
   "outputs": [],
   "source": [
    "train_loader = utils.data.DataLoader(train_set, batch_size=batch_size, num_workers=0)\n",
    "val_loader = utils.data.DataLoader(val_set, batch_size=batch_size, num_workers=0)"
   ]
  },
  {
   "cell_type": "code",
   "execution_count": 7,
   "metadata": {
    "colab": {
     "base_uri": "https://localhost:8080/"
    },
    "id": "B0U6Utf9wSoj",
    "outputId": "cb1a384a-ee51-4d97-a4e4-c3af696ab26f"
   },
   "outputs": [
    {
     "name": "stdout",
     "output_type": "stream",
     "text": [
      "Device: cuda:0\n"
     ]
    }
   ],
   "source": [
    "device = torch.device('cuda:0' if torch.cuda.is_available() else 'cpu')\n",
    "print('Device:', device)"
   ]
  },
  {
   "cell_type": "code",
   "execution_count": 8,
   "metadata": {
    "colab": {
     "base_uri": "https://localhost:8080/",
     "height": 868,
     "referenced_widgets": [
      "c8106143179542ec81b62b858f77abcf",
      "687bd00cd736478c9209ad7c097909cb",
      "7107a34bd5c84c7ea208bdec287589b1",
      "ad7b1109cbb140b7ac701af8c5c4f9c2",
      "6b4640b3ba8b46a1b43f40d9d0acf3b0",
      "7742103fd6024d96a4c6780b8d4489a7",
      "9edcb92c77cc4e10841089c8b77b3455",
      "6ae686a5b21c4e2bb4c47d3673096883"
     ]
    },
    "id": "glaviOKvwSok",
    "outputId": "245a32ca-43d9-4325-d5b2-35414e9dd5f4"
   },
   "outputs": [
    {
     "name": "stdout",
     "output_type": "stream",
     "text": [
      "AlmondNet(\n",
      "  (features): Sequential(\n",
      "    (0): Conv2d(3, 64, kernel_size=(11, 11), stride=(4, 4), padding=(2, 2))\n",
      "    (1): ReLU(inplace=True)\n",
      "    (2): MaxPool2d(kernel_size=3, stride=2, padding=0, dilation=1, ceil_mode=False)\n",
      "    (3): Conv2d(64, 192, kernel_size=(5, 5), stride=(1, 1), padding=(2, 2))\n",
      "    (4): ReLU(inplace=True)\n",
      "    (5): MaxPool2d(kernel_size=3, stride=2, padding=0, dilation=1, ceil_mode=False)\n",
      "    (6): Conv2d(192, 384, kernel_size=(3, 3), stride=(1, 1), padding=(1, 1))\n",
      "    (7): ReLU(inplace=True)\n",
      "    (8): Conv2d(384, 256, kernel_size=(3, 3), stride=(1, 1), padding=(1, 1))\n",
      "    (9): ReLU(inplace=True)\n",
      "    (10): Conv2d(256, 256, kernel_size=(3, 3), stride=(1, 1), padding=(1, 1))\n",
      "    (11): ReLU(inplace=True)\n",
      "    (12): MaxPool2d(kernel_size=3, stride=2, padding=0, dilation=1, ceil_mode=False)\n",
      "  )\n",
      "  (avgpool): AdaptiveAvgPool2d(output_size=(6, 6))\n",
      "  (classifier): Sequential(\n",
      "    (0): Linear(in_features=9216, out_features=2048, bias=True)\n",
      "    (1): ReLU(inplace=True)\n",
      "    (2): Dropout(p=0.5, inplace=False)\n",
      "    (3): Linear(in_features=2048, out_features=2048, bias=True)\n",
      "    (4): ReLU(inplace=True)\n",
      "    (5): Dropout(p=0.5, inplace=False)\n",
      "    (6): Linear(in_features=2048, out_features=2, bias=True)\n",
      "  )\n",
      ")\n",
      "AlmondNet(\n",
      "  (features): Sequential(\n",
      "    (0): Conv2d(3, 64, kernel_size=(11, 11), stride=(4, 4), padding=(2, 2))\n",
      "    (1): ReLU(inplace=True)\n",
      "    (2): MaxPool2d(kernel_size=3, stride=2, padding=0, dilation=1, ceil_mode=False)\n",
      "    (3): Conv2d(64, 192, kernel_size=(5, 5), stride=(1, 1), padding=(2, 2))\n",
      "    (4): ReLU(inplace=True)\n",
      "    (5): MaxPool2d(kernel_size=3, stride=2, padding=0, dilation=1, ceil_mode=False)\n",
      "    (6): Conv2d(192, 384, kernel_size=(3, 3), stride=(1, 1), padding=(1, 1))\n",
      "    (7): ReLU(inplace=True)\n",
      "    (8): Conv2d(384, 256, kernel_size=(3, 3), stride=(1, 1), padding=(1, 1))\n",
      "    (9): ReLU(inplace=True)\n",
      "    (10): Conv2d(256, 256, kernel_size=(3, 3), stride=(1, 1), padding=(1, 1))\n",
      "    (11): ReLU(inplace=True)\n",
      "    (12): MaxPool2d(kernel_size=3, stride=2, padding=0, dilation=1, ceil_mode=False)\n",
      "  )\n",
      "  (avgpool): AdaptiveAvgPool2d(output_size=(6, 6))\n",
      "  (classifier): Sequential(\n",
      "    (0): Linear(in_features=9216, out_features=2048, bias=True)\n",
      "    (1): ReLU(inplace=True)\n",
      "    (2): Dropout(p=0.5, inplace=False)\n",
      "    (3): Linear(in_features=2048, out_features=2048, bias=True)\n",
      "    (4): ReLU(inplace=True)\n",
      "    (5): Dropout(p=0.5, inplace=False)\n",
      "    (6): Linear(in_features=2048, out_features=2, bias=True)\n",
      "  )\n",
      ")\n"
     ]
    }
   ],
   "source": [
    "model = AlmondNet(pretrained=True, freeze_weights=False).to(device)\n",
    "criterion = nn.CrossEntropyLoss()\n",
    "optimizer = optim.Adam(model.parameters(), lr=learning_rate)\n",
    "print(model)\n",
    "print(str(model))"
   ]
  },
  {
   "cell_type": "code",
   "execution_count": 9,
   "metadata": {},
   "outputs": [
    {
     "name": "stdout",
     "output_type": "stream",
     "text": [
      "Successfully Loaded File: ./models/AlmondNet_ckpt.pth\n"
     ]
    }
   ],
   "source": [
    "trainer = hcd.training.Trainer(model, device, model_dir='./models/')\n",
    "trainer.load_from_file('./models/AlmondNet_ckpt.pth')"
   ]
  },
  {
   "cell_type": "code",
   "execution_count": 10,
   "metadata": {
    "id": "ejc6lTXlwSok",
    "scrolled": true
   },
   "outputs": [
    {
     "name": "stdout",
     "output_type": "stream",
     "text": [
      "Epoch [1/10], Step [1000/3521], Loss: 0.393496; Accuracy: 0.860000%\n",
      "Epoch [1/10], Step [2000/3521], Loss: 0.165709; Accuracy: 0.920000%\n",
      "Epoch [1/10], Step [3000/3521], Loss: 0.290053; Accuracy: 0.860000%\n",
      "------------[Loss = 0.230045; Accuracy = 0.909472%]------------\n",
      "Successfully saved checkpoint file to: ./models/AlmondNet_ckpt.pth\n",
      "Epoch [2/10], Step [1000/3521], Loss: 0.410618; Accuracy: 0.840000%\n",
      "Epoch [2/10], Step [2000/3521], Loss: 0.148507; Accuracy: 0.940000%\n",
      "Epoch [2/10], Step [3000/3521], Loss: 0.323962; Accuracy: 0.880000%\n",
      "------------[Loss = 0.218791; Accuracy = 0.912721%]------------\n",
      "Successfully saved checkpoint file to: ./models/AlmondNet_ckpt.pth\n",
      "Epoch [3/10], Step [1000/3521], Loss: 0.443815; Accuracy: 0.840000%\n",
      "Epoch [3/10], Step [2000/3521], Loss: 0.130235; Accuracy: 0.940000%\n",
      "Epoch [3/10], Step [3000/3521], Loss: 0.378407; Accuracy: 0.840000%\n",
      "------------[Loss = 0.213504; Accuracy = 0.914388%]------------\n",
      "Successfully saved checkpoint file to: ./models/AlmondNet_ckpt.pth\n",
      "Epoch [4/10], Step [1000/3521], Loss: 0.398516; Accuracy: 0.820000%\n",
      "Epoch [4/10], Step [2000/3521], Loss: 0.146880; Accuracy: 0.960000%\n",
      "Epoch [4/10], Step [3000/3521], Loss: 0.397651; Accuracy: 0.840000%\n",
      "------------[Loss = 0.213428; Accuracy = 0.915010%]------------\n",
      "Successfully saved checkpoint file to: ./models/AlmondNet_ckpt.pth\n",
      "Epoch [5/10], Step [1000/3521], Loss: 0.420598; Accuracy: 0.820000%\n",
      "Epoch [5/10], Step [2000/3521], Loss: 0.142980; Accuracy: 0.940000%\n",
      "Epoch [5/10], Step [3000/3521], Loss: 0.306713; Accuracy: 0.860000%\n",
      "------------[Loss = 0.207868; Accuracy = 0.916740%]------------\n",
      "Successfully saved checkpoint file to: ./models/AlmondNet_ckpt.pth\n",
      "Epoch [6/10], Step [1000/3521], Loss: 0.371376; Accuracy: 0.840000%\n",
      "Epoch [6/10], Step [2000/3521], Loss: 0.207370; Accuracy: 0.940000%\n",
      "Epoch [6/10], Step [3000/3521], Loss: 0.324388; Accuracy: 0.840000%\n",
      "------------[Loss = 0.218360; Accuracy = 0.912999%]------------\n",
      "Successfully saved checkpoint file to: ./models/AlmondNet_ckpt.pth\n",
      "Epoch [7/10], Step [1000/3521], Loss: 0.530156; Accuracy: 0.780000%\n",
      "Epoch [7/10], Step [2000/3521], Loss: 0.184624; Accuracy: 0.940000%\n",
      "Epoch [7/10], Step [3000/3521], Loss: 0.379712; Accuracy: 0.820000%\n",
      "------------[Loss = 0.209293; Accuracy = 0.916984%]------------\n",
      "Successfully saved checkpoint file to: ./models/AlmondNet_ckpt.pth\n",
      "Epoch [8/10], Step [1000/3521], Loss: 0.349719; Accuracy: 0.860000%\n",
      "Epoch [8/10], Step [2000/3521], Loss: 0.154271; Accuracy: 0.920000%\n",
      "Epoch [8/10], Step [3000/3521], Loss: 0.352563; Accuracy: 0.860000%\n",
      "------------[Loss = 0.203575; Accuracy = 0.918665%]------------\n",
      "Successfully saved checkpoint file to: ./models/AlmondNet_ckpt.pth\n",
      "Epoch [9/10], Step [1000/3521], Loss: 0.368931; Accuracy: 0.860000%\n",
      "Epoch [9/10], Step [2000/3521], Loss: 0.194730; Accuracy: 0.900000%\n",
      "Epoch [9/10], Step [3000/3521], Loss: 0.398542; Accuracy: 0.860000%\n",
      "------------[Loss = 0.208828; Accuracy = 0.916575%]------------\n",
      "Successfully saved checkpoint file to: ./models/AlmondNet_ckpt.pth\n",
      "Epoch [10/10], Step [1000/3521], Loss: 0.393370; Accuracy: 0.840000%\n",
      "Epoch [10/10], Step [2000/3521], Loss: 0.183467; Accuracy: 0.920000%\n",
      "Epoch [10/10], Step [3000/3521], Loss: 0.241247; Accuracy: 0.900000%\n",
      "------------[Loss = 0.206308; Accuracy = 0.917117%]------------\n",
      "Successfully saved checkpoint file to: ./models/AlmondNet_ckpt.pth\n",
      "Training complete in 159m 46s\n"
     ]
    }
   ],
   "source": [
    "losses, accuracies = trainer.train(train_loader, criterion, optimizer, num_epochs=num_epochs)"
   ]
  },
  {
   "cell_type": "code",
   "execution_count": 13,
   "metadata": {
    "id": "xb0w7uaOwSok",
    "scrolled": true
   },
   "outputs": [
    {
     "data": {
      "text/plain": [
       "<Figure size 432x288 with 0 Axes>"
      ]
     },
     "metadata": {},
     "output_type": "display_data"
    },
    {
     "data": {
      "image/png": "[encoded data removed]",
      "text/plain": [
       "<Figure size 720x360 with 2 Axes>"
      ]
     },
     "metadata": {
      "needs_background": "light"
     },
     "output_type": "display_data"
    }
   ],
   "source": [
    "plt.subplots_adjust(wspace=1)\n",
    "fig, ax = plt.subplots(1,2, figsize=(10,5))\n",
    "ax[0].set_title('Training Loss')\n",
    "ax[0].plot(list(range(1,len(losses)+1)), losses, 'r-')\n",
    "ax[0].set_ylabel('Categorical Cross Entropy Loss')\n",
    "ax[0].set_ylim(0, 1)\n",
    "ax[0].set_xlabel('Epochs')\n",
    "ax[1].set_title('Training Accuracy')\n",
    "ax[1].plot(list(range(1,len(accuracies)+1)), accuracies, 'b-')\n",
    "ax[1].set_ylabel('Accuracy (%)')\n",
    "ax[1].set_ylim(0, 1)\n",
    "ax[1].set_xlabel('Epochs')\n",
    "plt.savefig('C:/Users/Amod/PycharmProjects/CS184a/Results Images/25-35eAlmondNetWithClosedRR90.jpg')"
   ]
  },
  {
   "cell_type": "code",
   "execution_count": 14,
   "metadata": {
    "scrolled": false
   },
   "outputs": [
    {
     "name": "stdout",
     "output_type": "stream",
     "text": [
      "Evaluating AlmondNet on Validation set:\n",
      "F1-Score: 0.8953518123167423\n",
      "Accuracy: 0.9163504147255972\n",
      "Loss: 210.1514426395297\n"
     ]
    }
   ],
   "source": [
    "score, accuracy, loss = trainer.evaluate(val_loader, criterion)\n",
    "print('Evaluating AlmondNet on Validation set:')\n",
    "print('F1-Score:', score)\n",
    "print('Accuracy:', accuracy)\n",
    "print('Loss:', loss)"
   ]
  },
  {
   "cell_type": "markdown",
   "metadata": {},
   "source": [
    "# Test batches of 200"
   ]
  },
  {
   "cell_type": "code",
   "execution_count": null,
   "metadata": {
    "scrolled": true
   },
   "outputs": [],
   "source": [
    "        model.train()\n",
    "        since = time.time()\n",
    "        num_steps = len(train_loader)\n",
    "        losses = []\n",
    "        accuracies = []\n",
    "        for epoch in range(1, 26):\n",
    "            epoch_accuracy = 0.0\n",
    "            epoch_loss = 0.0\n",
    "            for i, (images, labels) in enumerate(train_loader, start=1):\n",
    "                images = images.to(device)\n",
    "                labels = labels.to(device)\n",
    "                # Generate prediction and evaluate\n",
    "                outputs = model(images)\n",
    "                labels = labels.long().flatten()\n",
    "                loss = criterion(outputs, labels)\n",
    "                # Backpropagate loss and update weights\n",
    "                optimizer.zero_grad()\n",
    "                loss.backward()\n",
    "                # Compute accuracy on this batch\n",
    "                predictions = torch.argmax(outputs, dim=1)\n",
    "                accuracy = (predictions == labels).sum().item() / len(labels)\n",
    "                optimizer.step()\n",
    "                # Compute running average of epoch loss\n",
    "                epoch_loss = (epoch_loss * (i-1) + loss.item()) / i\n",
    "                # Compute running average of accuracy\n",
    "                epoch_accuracy = (epoch_accuracy * (i-1) + accuracy) / i\n",
    "                # Print progress every 100 batches\n",
    "                # print(f'Epoch [{epoch}/2], Step [{i}/{num_steps}], '\n",
    "                          # f'Loss: {loss.item():.6f}; Accuracy: {accuracy:.6f}%')\n",
    "                # Print metrics for the current epoch\n",
    "                if i % 200 == 0:\n",
    "                    break\n",
    "            losses.append(epoch_loss)\n",
    "            accuracies.append(epoch_accuracy)\n",
    "            print(f'------------[Loss = {epoch_loss:6f}; Accuracy = {epoch_accuracy:6f}%]------------')\n",
    "        # Print training time\n",
    "        time_elapsed = time.time() - since\n",
    "        print('Training complete in {:.0f}m {:.0f}s'.format(time_elapsed // 60, time_elapsed % 60))\n",
    "        print(losses)\n",
    "        print(accuracies)"
   ]
  },
  {
   "cell_type": "code",
   "execution_count": null,
   "metadata": {},
   "outputs": [],
   "source": [
    "plt.subplots_adjust(wspace=1)\n",
    "fig, ax = plt.subplots(1,2, figsize=(10,5))\n",
    "ax[0].set_title('Training Loss')\n",
    "ax[0].plot(list(range(1,len(losses)+1)), losses, 'r-')\n",
    "ax[0].set_ylabel('Categorical Cross Entropy Loss')\n",
    "ax[0].set_ylim(0, 1)\n",
    "ax[0].set_xlabel('Steps')\n",
    "ax[1].set_title('Training Accuracy')\n",
    "ax[1].plot(list(range(1,len(losses)+1)), accuracies, 'b-')\n",
    "ax[1].set_ylabel('Accuracy (%)')\n",
    "ax[1].set_ylim(0, 1)\n",
    "ax[1].set_xlabel('Epochs')\n",
    "plt.savefig(fname='C:/Users/Amod/PycharmProjects/CS184a/Results Images/AlmondNetWithClosedRR90.jpg')"
   ]
  },
  {
   "cell_type": "markdown",
   "metadata": {},
   "source": [
    "# Evaluate a saved model"
   ]
  },
  {
   "cell_type": "code",
   "execution_count": null,
   "metadata": {
    "scrolled": true
   },
   "outputs": [],
   "source": [
    "print(model.__class__.__name__ + '_ckpt.pth')\n",
    "trainer = hcd.training.Trainer(model, train_loader, model_dir='./models/')\n",
    "trainer.load_checkpoint()"
   ]
  },
  {
   "cell_type": "code",
   "execution_count": null,
   "metadata": {
    "id": "u4pP8xuowSok"
   },
   "outputs": [],
   "source": [
    "score, accuracy, loss = hcd.evaluation.evaluate(model, val_loader, device, criterion)\n",
    "print('Evaluating AlmondNet on Validation set:')\n",
    "print('F1-Score:', score)\n",
    "print('Accuracy:', accuracy)\n",
    "print('Loss:', loss)"
   ]
  },
  {
   "cell_type": "code",
   "execution_count": 15,
   "metadata": {
    "scrolled": true
   },
   "outputs": [],
   "source": [
    "torch.save(model.state_dict(), './models/25-35eAlmondNetWithClosedRR90.pth.tar')"
   ]
  }
 ],
 "metadata": {
  "accelerator": "GPU",
  "colab": {
   "collapsed_sections": [],
   "name": "experiment_v16_0.ipynb",
   "provenance": []
  },
  "kernelspec": {
   "display_name": "Python 3",
   "language": "python",
   "name": "python3"
  },
  "language_info": {
   "codemirror_mode": {
    "name": "ipython",
    "version": 3
   },
   "file_extension": ".py",
   "mimetype": "text/x-python",
   "name": "python",
   "nbconvert_exporter": "python",
   "pygments_lexer": "ipython3",
   "version": "3.7.1"
  },
  "widgets": {
   "application/vnd.jupyter.widget-state+json": {
    "687bd00cd736478c9209ad7c097909cb": {
     "model_module": "@jupyter-widgets/base",
     "model_name": "LayoutModel",
     "state": {
      "_model_module": "@jupyter-widgets/base",
      "_model_module_version": "1.2.0",
      "_model_name": "LayoutModel",
      "_view_count": null,
      "_view_module": "@jupyter-widgets/base",
      "_view_module_version": "1.2.0",
      "_view_name": "LayoutView",
      "align_content": null,
      "align_items": null,
      "align_self": null,
      "border": null,
      "bottom": null,
      "display": null,
      "flex": null,
      "flex_flow": null,
      "grid_area": null,
      "grid_auto_columns": null,
      "grid_auto_flow": null,
      "grid_auto_rows": null,
      "grid_column": null,
      "grid_gap": null,
      "grid_row": null,
      "grid_template_areas": null,
      "grid_template_columns": null,
      "grid_template_rows": null,
      "height": null,
      "justify_content": null,
      "justify_items": null,
      "left": null,
      "margin": null,
      "max_height": null,
      "max_width": null,
      "min_height": null,
      "min_width": null,
      "object_fit": null,
      "object_position": null,
      "order": null,
      "overflow": null,
      "overflow_x": null,
      "overflow_y": null,
      "padding": null,
      "right": null,
      "top": null,
      "visibility": null,
      "width": null
     }
    },
    "6ae686a5b21c4e2bb4c47d3673096883": {
     "model_module": "@jupyter-widgets/base",
     "model_name": "LayoutModel",
     "state": {
      "_model_module": "@jupyter-widgets/base",
      "_model_module_version": "1.2.0",
      "_model_name": "LayoutModel",
      "_view_count": null,
      "_view_module": "@jupyter-widgets/base",
      "_view_module_version": "1.2.0",
      "_view_name": "LayoutView",
      "align_content": null,
      "align_items": null,
      "align_self": null,
      "border": null,
      "bottom": null,
      "display": null,
      "flex": null,
      "flex_flow": null,
      "grid_area": null,
      "grid_auto_columns": null,
      "grid_auto_flow": null,
      "grid_auto_rows": null,
      "grid_column": null,
      "grid_gap": null,
      "grid_row": null,
      "grid_template_areas": null,
      "grid_template_columns": null,
      "grid_template_rows": null,
      "height": null,
      "justify_content": null,
      "justify_items": null,
      "left": null,
      "margin": null,
      "max_height": null,
      "max_width": null,
      "min_height": null,
      "min_width": null,
      "object_fit": null,
      "object_position": null,
      "order": null,
      "overflow": null,
      "overflow_x": null,
      "overflow_y": null,
      "padding": null,
      "right": null,
      "top": null,
      "visibility": null,
      "width": null
     }
    },
    "6b4640b3ba8b46a1b43f40d9d0acf3b0": {
     "model_module": "@jupyter-widgets/controls",
     "model_name": "ProgressStyleModel",
     "state": {
      "_model_module": "@jupyter-widgets/controls",
      "_model_module_version": "1.5.0",
      "_model_name": "ProgressStyleModel",
      "_view_count": null,
      "_view_module": "@jupyter-widgets/base",
      "_view_module_version": "1.2.0",
      "_view_name": "StyleView",
      "bar_color": null,
      "description_width": "initial"
     }
    },
    "7107a34bd5c84c7ea208bdec287589b1": {
     "model_module": "@jupyter-widgets/controls",
     "model_name": "FloatProgressModel",
     "state": {
      "_dom_classes": [],
      "_model_module": "@jupyter-widgets/controls",
      "_model_module_version": "1.5.0",
      "_model_name": "FloatProgressModel",
      "_view_count": null,
      "_view_module": "@jupyter-widgets/controls",
      "_view_module_version": "1.5.0",
      "_view_name": "ProgressView",
      "bar_style": "success",
      "description": "100%",
      "description_tooltip": null,
      "layout": "IPY_MODEL_7742103fd6024d96a4c6780b8d4489a7",
      "max": 553433881,
      "min": 0,
      "orientation": "horizontal",
      "style": "IPY_MODEL_6b4640b3ba8b46a1b43f40d9d0acf3b0",
      "value": 553433881
     }
    },
    "7742103fd6024d96a4c6780b8d4489a7": {
     "model_module": "@jupyter-widgets/base",
     "model_name": "LayoutModel",
     "state": {
      "_model_module": "@jupyter-widgets/base",
      "_model_module_version": "1.2.0",
      "_model_name": "LayoutModel",
      "_view_count": null,
      "_view_module": "@jupyter-widgets/base",
      "_view_module_version": "1.2.0",
      "_view_name": "LayoutView",
      "align_content": null,
      "align_items": null,
      "align_self": null,
      "border": null,
      "bottom": null,
      "display": null,
      "flex": null,
      "flex_flow": null,
      "grid_area": null,
      "grid_auto_columns": null,
      "grid_auto_flow": null,
      "grid_auto_rows": null,
      "grid_column": null,
      "grid_gap": null,
      "grid_row": null,
      "grid_template_areas": null,
      "grid_template_columns": null,
      "grid_template_rows": null,
      "height": null,
      "justify_content": null,
      "justify_items": null,
      "left": null,
      "margin": null,
      "max_height": null,
      "max_width": null,
      "min_height": null,
      "min_width": null,
      "object_fit": null,
      "object_position": null,
      "order": null,
      "overflow": null,
      "overflow_x": null,
      "overflow_y": null,
      "padding": null,
      "right": null,
      "top": null,
      "visibility": null,
      "width": null
     }
    },
    "9edcb92c77cc4e10841089c8b77b3455": {
     "model_module": "@jupyter-widgets/controls",
     "model_name": "DescriptionStyleModel",
     "state": {
      "_model_module": "@jupyter-widgets/controls",
      "_model_module_version": "1.5.0",
      "_model_name": "DescriptionStyleModel",
      "_view_count": null,
      "_view_module": "@jupyter-widgets/base",
      "_view_module_version": "1.2.0",
      "_view_name": "StyleView",
      "description_width": ""
     }
    },
    "ad7b1109cbb140b7ac701af8c5c4f9c2": {
     "model_module": "@jupyter-widgets/controls",
     "model_name": "HTMLModel",
     "state": {
      "_dom_classes": [],
      "_model_module": "@jupyter-widgets/controls",
      "_model_module_version": "1.5.0",
      "_model_name": "HTMLModel",
      "_view_count": null,
      "_view_module": "@jupyter-widgets/controls",
      "_view_module_version": "1.5.0",
      "_view_name": "HTMLView",
      "description": "",
      "description_tooltip": null,
      "layout": "IPY_MODEL_6ae686a5b21c4e2bb4c47d3673096883",
      "placeholder": "​",
      "style": "IPY_MODEL_9edcb92c77cc4e10841089c8b77b3455",
      "value": " 528M/528M [01:05&lt;00:00, 8.49MB/s]"
     }
    },
    "c8106143179542ec81b62b858f77abcf": {
     "model_module": "@jupyter-widgets/controls",
     "model_name": "HBoxModel",
     "state": {
      "_dom_classes": [],
      "_model_module": "@jupyter-widgets/controls",
      "_model_module_version": "1.5.0",
      "_model_name": "HBoxModel",
      "_view_count": null,
      "_view_module": "@jupyter-widgets/controls",
      "_view_module_version": "1.5.0",
      "_view_name": "HBoxView",
      "box_style": "",
      "children": [
       "IPY_MODEL_7107a34bd5c84c7ea208bdec287589b1",
       "IPY_MODEL_ad7b1109cbb140b7ac701af8c5c4f9c2"
      ],
      "layout": "IPY_MODEL_687bd00cd736478c9209ad7c097909cb"
     }
    }
   }
  }
 },
 "nbformat": 4,
 "nbformat_minor": 1
}
